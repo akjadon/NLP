{
 "cells": [
  {
   "cell_type": "markdown",
   "metadata": {},
   "source": [
    "# Fetching Tweets using Tweepy"
   ]
  },
  {
   "cell_type": "code",
   "execution_count": 1,
   "metadata": {},
   "outputs": [],
   "source": [
    "import tweepy\n",
    "\n",
    "# Variables that contains the credentials to access Twitter API\n",
    "ACCESS_TOKEN = '1014097837381111808-1ZmyTn9NwXhnlnH3rLJdjLg7WmwFTG'\n",
    "ACCESS_SECRET = 'siiC7b529NpcGT8uwopjOaauSRZoUQdlN38mLL0gX2TLK'\n",
    "CONSUMER_KEY = 'ZSTjRgpSwrcpgLDqTug1tnHVS'\n",
    "CONSUMER_SECRET = '2mfFBHGIV0OT7b5LbgWrAbBhoyr3tB7GiGTtCGiz0pN8S9EFKv'\n",
    "\n",
    "\n",
    "# Setup access to API\n",
    "def connect_to_twitter_OAuth():\n",
    "    auth = tweepy.OAuthHandler(CONSUMER_KEY, CONSUMER_SECRET)\n",
    "    auth.set_access_token(ACCESS_TOKEN, ACCESS_SECRET)\n",
    "\n",
    "    api = tweepy.API(auth)\n",
    "    return api\n",
    "\n",
    "\n",
    "# Create API object\n",
    "api = connect_to_twitter_OAuth()"
   ]
  },
  {
   "cell_type": "code",
   "execution_count": 2,
   "metadata": {},
   "outputs": [
    {
     "name": "stdout",
     "output_type": "stream",
     "text": [
      "In case the Kurds or Turkey lose control, the United States has already taken the 2 ISIS militants tied to beheadin… https://t.co/05C14uxy2B\n",
      "Impeached for what, having created the greatest Economy in the history of our Country, building our strongest ever… https://t.co/2DgE4OeFiy\n",
      "A different take! https://t.co/XKnQ6XTF0k\n",
      "RT @ABCPolitics: President Trump criticizes Steve Kerr and Gregg Popovich — both vocal critics of Trump — when asked about China putting pr…\n",
      "“I don’t think it’s a Whistleblower at all. I think this is an anonymous source for the Democratic Staff in the Hou… https://t.co/G8QodnGwOf\n",
      "https://t.co/I6VsoDIQQp\n",
      "The hardest thing I have to do as President... https://t.co/6bzwh78I00\n",
      "Sleepy Joe Biden! https://t.co/oZtytImXqq\n",
      "So pathetic to see Sleepy Joe Biden, who with his son, Hunter, and to the detriment of the American Taxpayer, has r… https://t.co/bPBdBHnSzQ\n",
      "Only 25 percent want the President Impeached, which is pretty low considering the volume of Fake News coverage, but… https://t.co/QKE74kOcAA\n",
      "So why is someone a good or great President if they needed to Spy on someone else’s Campaign in order to win (that… https://t.co/wCGbhZFBWl\n",
      "....DACA stand, with all of its negative legal implications, the Republicans and Democrats will have a DEAL to let… https://t.co/aXhYPbGgtj\n",
      "President Obama said that he did not have the right to sign DACA, that it will never hold up in court. He signed it… https://t.co/sG8Rg0bpqI\n",
      "RT @IngrahamAngle: Dems are now willing to hurt our economy AND the economy of Mexico—all to deny Trump a win on USMCA.  Mexico is urging P…\n",
      "Crooked Hillary should try it again! https://t.co/UjfIpZp1FA\n",
      "RT @Jim_Jordan: Democrats are so busy “striking while the iron is hot” that they didn’t even have a vote to start their crazy impeachment p…\n",
      "True. Should have never been there in the first place! https://t.co/kVXtpB23Wy\n",
      "Why doesn’t the ICIG do something about this Scam? He should have never let it start, a Dem Hoax! https://t.co/UCbObppWbA\n",
      "Adam Schiff is a disgrace to our Country! https://t.co/4pM3j1GLev\n",
      "RT @michaelbeatty3: BOOM\n",
      "@MariaBartiromo is hearing..\n",
      "●IG REPORT OCT 18TH\n",
      "●THICK AS A TELEPHONE BOOK @realDonaldTrump #PANIC #WednesdayWisd…\n"
     ]
    }
   ],
   "source": [
    "# tweets from a specific user\n",
    "trump_tweets = api.user_timeline('@realdonaldtrump')\n",
    "for tweet in trump_tweets:\n",
    "    print(tweet.text)"
   ]
  },
  {
   "cell_type": "code",
   "execution_count": 3,
   "metadata": {},
   "outputs": [],
   "source": [
    "import pandas as pd\n",
    "# fuction to extract data from tweet object\n",
    "def extract_tweet_attributes(tweet_object):\n",
    "    # create empty list\n",
    "    tweet_list =[]\n",
    "    # loop through tweet objects\n",
    "    for tweet in tweet_object:\n",
    "        tweet_id = tweet.id # unique integer identifier for tweet\n",
    "        text = tweet.text # utf-8 text of tweet\n",
    "        favorite_count = tweet.favorite_count\n",
    "        retweet_count = tweet.retweet_count\n",
    "        created_at = tweet.created_at # utc time tweet created\n",
    "        source = tweet.source # utility used to post tweet\n",
    "        reply_to_status = tweet.in_reply_to_status_id # if reply int of orginal tweet id\n",
    "        reply_to_user = tweet.in_reply_to_screen_name # if reply original tweetes screenname\n",
    "        retweets = tweet.retweet_count # number of times this tweet retweeted\n",
    "        favorites = tweet.favorite_count # number of time this tweet liked\n",
    "        # append attributes to list\n",
    "        tweet_list.append({'tweet_id':tweet_id, \n",
    "                          'text':text, \n",
    "                          'favorite_count':favorite_count,\n",
    "                          'retweet_count':retweet_count,\n",
    "                          'created_at':created_at, \n",
    "                          'source':source, \n",
    "                          'reply_to_status':reply_to_status, \n",
    "                          'reply_to_user':reply_to_user,\n",
    "                          'retweets':retweets,\n",
    "                          'favorites':favorites})\n",
    "    # create dataframe   \n",
    "    df = pd.DataFrame(tweet_list, columns=['tweet_id',\n",
    "                                           'text',\n",
    "                                           'favorite_count',\n",
    "                                           'retweet_count',\n",
    "                                           'created_at',\n",
    "                                           'source',\n",
    "                                           'reply_to_status',\n",
    "                                           'reply_to_user',\n",
    "                                           'retweets',\n",
    "                                           'favorites'])\n",
    "    return df\n",
    "\n",
    "\n",
    "df = extract_tweet_attributes(trump_tweets)"
   ]
  },
  {
   "cell_type": "code",
   "execution_count": 4,
   "metadata": {},
   "outputs": [
    {
     "data": {
      "text/plain": [
       "0     In case the Kurds or Turkey lose control, the ...\n",
       "1     Impeached for what, having created the greates...\n",
       "2             A different take! https://t.co/XKnQ6XTF0k\n",
       "3     RT @ABCPolitics: President Trump criticizes St...\n",
       "4     “I don’t think it’s a Whistleblower at all. I ...\n",
       "5                               https://t.co/I6VsoDIQQp\n",
       "6     The hardest thing I have to do as President......\n",
       "7             Sleepy Joe Biden! https://t.co/oZtytImXqq\n",
       "8     So pathetic to see Sleepy Joe Biden, who with ...\n",
       "9     Only 25 percent want the President Impeached, ...\n",
       "10    So why is someone a good or great President if...\n",
       "11    ....DACA stand, with all of its negative legal...\n",
       "12    President Obama said that he did not have the ...\n",
       "13    RT @IngrahamAngle: Dems are now willing to hur...\n",
       "14    Crooked Hillary should try it again! https://t...\n",
       "15    RT @Jim_Jordan: Democrats are so busy “strikin...\n",
       "16    True. Should have never been there in the firs...\n",
       "17    Why doesn’t the ICIG do something about this S...\n",
       "18    Adam Schiff is a disgrace to our Country! http...\n",
       "19    RT @michaelbeatty3: BOOM\\n@MariaBartiromo is h...\n",
       "Name: text, dtype: object"
      ]
     },
     "execution_count": 4,
     "metadata": {},
     "output_type": "execute_result"
    }
   ],
   "source": [
    "df['text']"
   ]
  },
  {
   "cell_type": "markdown",
   "metadata": {},
   "source": [
    "# Removing user handle "
   ]
  },
  {
   "cell_type": "code",
   "execution_count": 5,
   "metadata": {},
   "outputs": [
    {
     "data": {
      "text/plain": [
       "0     In case the Kurds or Turkey lose control, the ...\n",
       "1     Impeached for what, having created the greates...\n",
       "2             A different take! https://t.co/XKnQ6XTF0k\n",
       "3      : President Trump criticizes Steve Kerr and G...\n",
       "4     “I don’t think it’s a Whistleblower at all. I ...\n",
       "5                               https://t.co/I6VsoDIQQp\n",
       "6     The hardest thing I have to do as President......\n",
       "7             Sleepy Joe Biden! https://t.co/oZtytImXqq\n",
       "8     So pathetic to see Sleepy Joe Biden, who with ...\n",
       "9     Only 25 percent want the President Impeached, ...\n",
       "10    So why is someone a good or great President if...\n",
       "11    ....DACA stand, with all of its negative legal...\n",
       "12    President Obama said that he did not have the ...\n",
       "13     : Dems are now willing to hurt our economy AN...\n",
       "14    Crooked Hillary should try it again! https://t...\n",
       "15     : Democrats are so busy “striking while the i...\n",
       "16    True. Should have never been there in the firs...\n",
       "17    Why doesn’t the ICIG do something about this S...\n",
       "18    Adam Schiff is a disgrace to our Country! http...\n",
       "19     : BOOM\\n is hearing..\\n●IG REPO OCT 18TH\\n●TH...\n",
       "Name: tidy_tweet, dtype: object"
      ]
     },
     "execution_count": 5,
     "metadata": {},
     "output_type": "execute_result"
    }
   ],
   "source": [
    "# removing user handle \n",
    "df['tidy_tweet'] = df['text'].replace(to_replace ='(@[\\w]+)', value ='', regex = True) \n",
    "df['tidy_tweet'] = df['tidy_tweet'].replace(to_replace =('RT'), value ='',regex = True) \n",
    "df['tidy_tweet']"
   ]
  },
  {
   "cell_type": "markdown",
   "metadata": {},
   "source": [
    "# Remove any links from the tweet"
   ]
  },
  {
   "cell_type": "code",
   "execution_count": 6,
   "metadata": {},
   "outputs": [
    {
     "data": {
      "text/plain": [
       "0     In case the Kurds or Turkey lose control, the ...\n",
       "1     Impeached for what, having created the greates...\n",
       "2                                   A different take! \u0000\n",
       "3      : President Trump criticizes Steve Kerr and G...\n",
       "4     “I don’t think it’s a Whistleblower at all. I ...\n",
       "5                                                     \u0000\n",
       "6      The hardest thing I have to do as President... \u0000\n",
       "7                                   Sleepy Joe Biden! \u0000\n",
       "8     So pathetic to see Sleepy Joe Biden, who with ...\n",
       "9     Only 25 percent want the President Impeached, ...\n",
       "10    So why is someone a good or great President if...\n",
       "11    ....DACA stand, with all of its negative legal...\n",
       "12    President Obama said that he did not have the ...\n",
       "13     : Dems are now willing to hurt our economy AN...\n",
       "14               Crooked Hillary should try it again! \u0000\n",
       "15     : Democrats are so busy “striking while the i...\n",
       "16    True. Should have never been there in the firs...\n",
       "17    Why doesn’t the ICIG do something about this S...\n",
       "18          Adam Schiff is a disgrace to our Country! \u0000\n",
       "19     : BOOM\\n is hearing..\\n●IG REPO OCT 18TH\\n●TH...\n",
       "Name: tidy_tweet, dtype: object"
      ]
     },
     "execution_count": 6,
     "metadata": {},
     "output_type": "execute_result"
    }
   ],
   "source": [
    "#remove any links from the tweet: Links not required for performing sentiment analysis.\n",
    "df['tidy_tweet'] = df['tidy_tweet'].str.replace('((www\\.[\\s]+)|(https?://[^\\s]+))','\\0',regex=True)\n",
    "df['tidy_tweet']"
   ]
  },
  {
   "cell_type": "markdown",
   "metadata": {},
   "source": [
    "# Remove special characters, numbers, punctuations:"
   ]
  },
  {
   "cell_type": "code",
   "execution_count": 7,
   "metadata": {},
   "outputs": [],
   "source": [
    "# remove special characters, numbers, punctuations: None of them would add any value to the sentiment score.\n",
    "df['tidy_tweet'] = df['tidy_tweet'].str.replace(\"[^a-zA-Z]+\", \" \")"
   ]
  },
  {
   "cell_type": "code",
   "execution_count": 8,
   "metadata": {},
   "outputs": [
    {
     "data": {
      "text/plain": [
       "0     In case the Kurds or Turkey lose control the U...\n",
       "1     Impeached for what having created the greatest...\n",
       "2                                     A different take \n",
       "3      President Trump criticizes Steve Kerr and Gre...\n",
       "4      I don t think it s a Whistleblower at all I t...\n",
       "5                                                      \n",
       "6          The hardest thing I have to do as President \n",
       "7                                     Sleepy Joe Biden \n",
       "8     So pathetic to see Sleepy Joe Biden who with h...\n",
       "9     Only percent want the President Impeached whic...\n",
       "10    So why is someone a good or great President if...\n",
       "11     DACA stand with all of its negative legal imp...\n",
       "12    President Obama said that he did not have the ...\n",
       "13     Dems are now willing to hurt our economy AND ...\n",
       "14                 Crooked Hillary should try it again \n",
       "15     Democrats are so busy striking while the iron...\n",
       "16    True Should have never been there in the first...\n",
       "17    Why doesn t the ICIG do something about this S...\n",
       "18            Adam Schiff is a disgrace to our Country \n",
       "19     BOOM is hearing IG REPO OCT TH THICK AS A TEL...\n",
       "Name: tidy_tweet, dtype: object"
      ]
     },
     "execution_count": 8,
     "metadata": {},
     "output_type": "execute_result"
    }
   ],
   "source": [
    "df['tidy_tweet']"
   ]
  },
  {
   "cell_type": "markdown",
   "metadata": {},
   "source": [
    "# Tokenising and removing Stop Words"
   ]
  },
  {
   "cell_type": "code",
   "execution_count": 9,
   "metadata": {},
   "outputs": [],
   "source": [
    "df[\"tidy_tweet\"] = df[\"tidy_tweet\"].str.lower()\n",
    "df[\"tidy_tweet\"] = df[\"tidy_tweet\"].str.split()\n",
    "from nltk.corpus import stopwords\n",
    "\n",
    "stop = stopwords.words('english')"
   ]
  },
  {
   "cell_type": "code",
   "execution_count": 54,
   "metadata": {},
   "outputs": [
    {
     "data": {
      "text/plain": [
       "0                                             [amazing]\n",
       "1                                                    []\n",
       "2                                                    []\n",
       "3     [wow, breaking, big, deal, whistleblower, prof...\n",
       "4     [bob, mueller, pursuing, fbi, director, job, m...\n",
       "5     [time, excuses, usmca, needs, move, fall, work...\n",
       "6                 [greatest, witch, hunt, history, usa]\n",
       "7     [usmca, would, create, jobs, american, workers...\n",
       "8     [gasoline, prices, state, california, much, hi...\n",
       "9     [reminder, house, democrats, spent, basically,...\n",
       "10    [runoff, louisiana, great, new, republican, go...\n",
       "11    [big, rally, louisiana, friday, night, must, f...\n",
       "12                                   [beginning, thank]\n",
       "13                                  [u, border, secure]\n",
       "14    [fact, cops, trump, shirt, web, site, crashed,...\n",
       "15    [radical, left, dem, mayor, minneapolis, jacob...\n",
       "16    [friday, night, louisiana, great, big, crowd, ...\n",
       "17    [mahalet, born, ethiopia, abandoned, parents, ...\n",
       "18    [adam, schiff, fully, discredited, continue, l...\n",
       "19                                                   []\n",
       "Name: tidy_tweet, dtype: object"
      ]
     },
     "execution_count": 54,
     "metadata": {},
     "output_type": "execute_result"
    }
   ],
   "source": [
    "df['tidy_tweet']=df['tidy_tweet'].apply(lambda x: [item for item in x if item not in stop])\n",
    "df['tidy_tweet']"
   ]
  },
  {
   "cell_type": "code",
   "execution_count": 55,
   "metadata": {},
   "outputs": [
    {
     "data": {
      "text/plain": [
       "['This',\n",
       " 'is',\n",
       " 'a',\n",
       " 'cooool',\n",
       " '#dummysmiley',\n",
       " ':',\n",
       " ':-)',\n",
       " ':-P',\n",
       " '<3',\n",
       " 'and',\n",
       " 'some',\n",
       " 'arrows',\n",
       " '<',\n",
       " '>',\n",
       " '->',\n",
       " '<--']"
      ]
     },
     "execution_count": 55,
     "metadata": {},
     "output_type": "execute_result"
    }
   ],
   "source": [
    "#Alternate Method: Using TweetTokenizer to tokenize the tweet\n",
    "from nltk.tokenize import TweetTokenizer\n",
    "\n",
    "tt = TweetTokenizer()\n",
    "s0 = \"This is a cooool #dummysmiley: :-) :-P <3 and some arrows < > -> <--\"\n",
    "tt.tokenize(s0)"
   ]
  },
  {
   "cell_type": "code",
   "execution_count": 56,
   "metadata": {},
   "outputs": [],
   "source": [
    "def rejoin_words(row):\n",
    "    my_list = row['tidy_tweet']\n",
    "    joined_words = ( \" \".join(my_list))\n",
    "    return joined_words\n",
    "\n",
    "df['tidy_tweet'] = df.apply(rejoin_words, axis=1)\n"
   ]
  },
  {
   "cell_type": "code",
   "execution_count": 57,
   "metadata": {},
   "outputs": [
    {
     "data": {
      "text/plain": [
       "0                                               amazing\n",
       "1                                                      \n",
       "2                                                      \n",
       "3     wow breaking big deal whistleblower profession...\n",
       "4     bob mueller pursuing fbi director job met pres...\n",
       "5     time excuses usmca needs move fall workers sma...\n",
       "6                       greatest witch hunt history usa\n",
       "7     usmca would create jobs american workers gener...\n",
       "8     gasoline prices state california much higher a...\n",
       "9     reminder house democrats spent basically entir...\n",
       "10    runoff louisiana great new republican governor...\n",
       "11    big rally louisiana friday night must force ru...\n",
       "12                                      beginning thank\n",
       "13                                      u border secure\n",
       "14    fact cops trump shirt web site crashed incredi...\n",
       "15    radical left dem mayor minneapolis jacob frey ...\n",
       "16    friday night louisiana great big crowd expecte...\n",
       "17    mahalet born ethiopia abandoned parents lived ...\n",
       "18    adam schiff fully discredited continue listeni...\n",
       "19                                                     \n",
       "Name: tidy_tweet, dtype: object"
      ]
     },
     "execution_count": 57,
     "metadata": {},
     "output_type": "execute_result"
    }
   ],
   "source": [
    "df['tidy_tweet']"
   ]
  },
  {
   "cell_type": "markdown",
   "metadata": {},
   "source": [
    "# Applying Lemmatization"
   ]
  },
  {
   "cell_type": "code",
   "execution_count": 58,
   "metadata": {},
   "outputs": [],
   "source": [
    "import nltk\n",
    "w_tokenizer = nltk.tokenize.WhitespaceTokenizer()\n",
    "lemmatizer = nltk.stem.WordNetLemmatizer()\n",
    "\n",
    "def lemmatize_text(text):\n",
    "    return [lemmatizer.lemmatize(w) for w in w_tokenizer.tokenize(text)]\n",
    "\n",
    "df['tidy_tweet'] = df['tidy_tweet'].apply(lemmatize_text)"
   ]
  },
  {
   "cell_type": "code",
   "execution_count": 59,
   "metadata": {},
   "outputs": [
    {
     "data": {
      "text/plain": [
       "0                                             [amazing]\n",
       "1                                                    []\n",
       "2                                                    []\n",
       "3     [wow, breaking, big, deal, whistleblower, prof...\n",
       "4     [bob, mueller, pursuing, fbi, director, job, m...\n",
       "5     [time, excuse, usmca, need, move, fall, worker...\n",
       "6                 [greatest, witch, hunt, history, usa]\n",
       "7     [usmca, would, create, job, american, worker, ...\n",
       "8     [gasoline, price, state, california, much, hig...\n",
       "9     [reminder, house, democrat, spent, basically, ...\n",
       "10    [runoff, louisiana, great, new, republican, go...\n",
       "11    [big, rally, louisiana, friday, night, must, f...\n",
       "12                                   [beginning, thank]\n",
       "13                                  [u, border, secure]\n",
       "14    [fact, cop, trump, shirt, web, site, crashed, ...\n",
       "15    [radical, left, dem, mayor, minneapolis, jacob...\n",
       "16    [friday, night, louisiana, great, big, crowd, ...\n",
       "17    [mahalet, born, ethiopia, abandoned, parent, l...\n",
       "18    [adam, schiff, fully, discredited, continue, l...\n",
       "19                                                   []\n",
       "Name: tidy_tweet, dtype: object"
      ]
     },
     "execution_count": 59,
     "metadata": {},
     "output_type": "execute_result"
    }
   ],
   "source": [
    "df['tidy_tweet']"
   ]
  },
  {
   "cell_type": "code",
   "execution_count": 60,
   "metadata": {},
   "outputs": [],
   "source": [
    "def rejoin_words(row):\n",
    "    my_list = row['tidy_tweet']\n",
    "    joined_words = ( \" \".join(my_list))\n",
    "    return joined_words\n",
    "\n",
    "df['tidy_tweet'] = df.apply(rejoin_words, axis=1)"
   ]
  },
  {
   "cell_type": "code",
   "execution_count": 61,
   "metadata": {},
   "outputs": [
    {
     "data": {
      "text/plain": [
       "0                                               amazing\n",
       "1                                                      \n",
       "2                                                      \n",
       "3     wow breaking big deal whistleblower profession...\n",
       "4     bob mueller pursuing fbi director job met pres...\n",
       "5     time excuse usmca need move fall worker small ...\n",
       "6                       greatest witch hunt history usa\n",
       "7     usmca would create job american worker generat...\n",
       "8     gasoline price state california much higher an...\n",
       "9     reminder house democrat spent basically entire...\n",
       "10    runoff louisiana great new republican governor...\n",
       "11    big rally louisiana friday night must force ru...\n",
       "12                                      beginning thank\n",
       "13                                      u border secure\n",
       "14    fact cop trump shirt web site crashed incredib...\n",
       "15    radical left dem mayor minneapolis jacob frey ...\n",
       "16    friday night louisiana great big crowd expecte...\n",
       "17    mahalet born ethiopia abandoned parent lived i...\n",
       "18    adam schiff fully discredited continue listeni...\n",
       "19                                                     \n",
       "Name: tidy_tweet, dtype: object"
      ]
     },
     "execution_count": 61,
     "metadata": {},
     "output_type": "execute_result"
    }
   ],
   "source": [
    "df['tidy_tweet']"
   ]
  },
  {
   "cell_type": "code",
   "execution_count": 66,
   "metadata": {},
   "outputs": [
    {
     "data": {
      "text/plain": [
       "tweet_id            0\n",
       "text                0\n",
       "favorite_count      0\n",
       "retweet_count       0\n",
       "created_at          0\n",
       "source              0\n",
       "reply_to_status    18\n",
       "reply_to_user      18\n",
       "retweets            0\n",
       "favorites           0\n",
       "tidy_tweet          0\n",
       "polarity            0\n",
       "subjectivity        0\n",
       "dtype: int64"
      ]
     },
     "execution_count": 66,
     "metadata": {},
     "output_type": "execute_result"
    }
   ],
   "source": [
    "df.isnull().sum()"
   ]
  },
  {
   "cell_type": "markdown",
   "metadata": {},
   "source": [
    "# Check the Sentiment using TextBlob"
   ]
  },
  {
   "cell_type": "code",
   "execution_count": 62,
   "metadata": {},
   "outputs": [],
   "source": [
    "from textblob import TextBlob\n",
    "df[['polarity', 'subjectivity']] = df['tidy_tweet'].apply(lambda Text: pd.Series(TextBlob(Text).sentiment))"
   ]
  },
  {
   "cell_type": "code",
   "execution_count": 63,
   "metadata": {},
   "outputs": [
    {
     "data": {
      "text/html": [
       "<div>\n",
       "<style scoped>\n",
       "    .dataframe tbody tr th:only-of-type {\n",
       "        vertical-align: middle;\n",
       "    }\n",
       "\n",
       "    .dataframe tbody tr th {\n",
       "        vertical-align: top;\n",
       "    }\n",
       "\n",
       "    .dataframe thead th {\n",
       "        text-align: right;\n",
       "    }\n",
       "</style>\n",
       "<table border=\"1\" class=\"dataframe\">\n",
       "  <thead>\n",
       "    <tr style=\"text-align: right;\">\n",
       "      <th></th>\n",
       "      <th>text</th>\n",
       "      <th>polarity</th>\n",
       "      <th>subjectivity</th>\n",
       "    </tr>\n",
       "  </thead>\n",
       "  <tbody>\n",
       "    <tr>\n",
       "      <th>0</th>\n",
       "      <td>So amazing! https://t.co/UG3DaSkmUc</td>\n",
       "      <td>0.600000</td>\n",
       "      <td>0.900000</td>\n",
       "    </tr>\n",
       "    <tr>\n",
       "      <th>1</th>\n",
       "      <td>https://t.co/ap9wN7wkj6</td>\n",
       "      <td>0.000000</td>\n",
       "      <td>0.000000</td>\n",
       "    </tr>\n",
       "    <tr>\n",
       "      <th>2</th>\n",
       "      <td>https://t.co/jZLa4vWXAZ</td>\n",
       "      <td>0.000000</td>\n",
       "      <td>0.000000</td>\n",
       "    </tr>\n",
       "    <tr>\n",
       "      <th>3</th>\n",
       "      <td>Wow, Just Breaking: “The (big deal) Whistleblo...</td>\n",
       "      <td>0.066667</td>\n",
       "      <td>0.400000</td>\n",
       "    </tr>\n",
       "    <tr>\n",
       "      <th>4</th>\n",
       "      <td>“Bob Mueller was pursuing the FBI Director job...</td>\n",
       "      <td>0.000000</td>\n",
       "      <td>0.000000</td>\n",
       "    </tr>\n",
       "    <tr>\n",
       "      <th>5</th>\n",
       "      <td>RT @senatemajldr: The time for excuses is over...</td>\n",
       "      <td>-0.150000</td>\n",
       "      <td>0.225000</td>\n",
       "    </tr>\n",
       "    <tr>\n",
       "      <th>6</th>\n",
       "      <td>The Greatest Witch Hunt in the history of the ...</td>\n",
       "      <td>1.000000</td>\n",
       "      <td>1.000000</td>\n",
       "    </tr>\n",
       "    <tr>\n",
       "      <th>7</th>\n",
       "      <td>RT @senatemajldr: The USMCA would create 176,0...</td>\n",
       "      <td>0.000000</td>\n",
       "      <td>0.000000</td>\n",
       "    </tr>\n",
       "    <tr>\n",
       "      <th>8</th>\n",
       "      <td>Gasoline Prices in the State of California are...</td>\n",
       "      <td>0.250000</td>\n",
       "      <td>0.500000</td>\n",
       "    </tr>\n",
       "    <tr>\n",
       "      <th>9</th>\n",
       "      <td>RT @RepMarkMeadows: Reminder that while House ...</td>\n",
       "      <td>0.050000</td>\n",
       "      <td>0.352778</td>\n",
       "    </tr>\n",
       "    <tr>\n",
       "      <th>10</th>\n",
       "      <td>....If there is a Runoff in Louisiana, you wil...</td>\n",
       "      <td>0.468182</td>\n",
       "      <td>0.602273</td>\n",
       "    </tr>\n",
       "    <tr>\n",
       "      <th>11</th>\n",
       "      <td>Big Rally in Louisiana on Friday night. Must f...</td>\n",
       "      <td>0.000000</td>\n",
       "      <td>0.100000</td>\n",
       "    </tr>\n",
       "    <tr>\n",
       "      <th>12</th>\n",
       "      <td>This is just the beginning, thank you to @Byro...</td>\n",
       "      <td>0.000000</td>\n",
       "      <td>0.000000</td>\n",
       "    </tr>\n",
       "    <tr>\n",
       "      <th>13</th>\n",
       "      <td>The U.S. Border is SECURE! https://t.co/h9EPUP...</td>\n",
       "      <td>0.400000</td>\n",
       "      <td>0.600000</td>\n",
       "    </tr>\n",
       "    <tr>\n",
       "      <th>14</th>\n",
       "      <td>....In fact, the “Cops For Trump” T-shirt Web ...</td>\n",
       "      <td>0.450000</td>\n",
       "      <td>0.450000</td>\n",
       "    </tr>\n",
       "    <tr>\n",
       "      <th>15</th>\n",
       "      <td>Radical Left Dem Mayor of Minneapolis, Jacob F...</td>\n",
       "      <td>0.133333</td>\n",
       "      <td>0.600000</td>\n",
       "    </tr>\n",
       "    <tr>\n",
       "      <th>16</th>\n",
       "      <td>Friday night in Louisiana will be Great. Big c...</td>\n",
       "      <td>0.233333</td>\n",
       "      <td>0.416667</td>\n",
       "    </tr>\n",
       "    <tr>\n",
       "      <th>17</th>\n",
       "      <td>RT @bennyjohnson: Mahalet was born in Ethiopia...</td>\n",
       "      <td>0.000000</td>\n",
       "      <td>0.000000</td>\n",
       "    </tr>\n",
       "    <tr>\n",
       "      <th>18</th>\n",
       "      <td>Hasn’t Adam Schiff been fully discredited by n...</td>\n",
       "      <td>0.000000</td>\n",
       "      <td>0.000000</td>\n",
       "    </tr>\n",
       "    <tr>\n",
       "      <th>19</th>\n",
       "      <td>https://t.co/bh1FyxfUiA</td>\n",
       "      <td>0.000000</td>\n",
       "      <td>0.000000</td>\n",
       "    </tr>\n",
       "  </tbody>\n",
       "</table>\n",
       "</div>"
      ],
      "text/plain": [
       "                                                 text  polarity  subjectivity\n",
       "0                 So amazing! https://t.co/UG3DaSkmUc  0.600000      0.900000\n",
       "1                             https://t.co/ap9wN7wkj6  0.000000      0.000000\n",
       "2                             https://t.co/jZLa4vWXAZ  0.000000      0.000000\n",
       "3   Wow, Just Breaking: “The (big deal) Whistleblo...  0.066667      0.400000\n",
       "4   “Bob Mueller was pursuing the FBI Director job...  0.000000      0.000000\n",
       "5   RT @senatemajldr: The time for excuses is over... -0.150000      0.225000\n",
       "6   The Greatest Witch Hunt in the history of the ...  1.000000      1.000000\n",
       "7   RT @senatemajldr: The USMCA would create 176,0...  0.000000      0.000000\n",
       "8   Gasoline Prices in the State of California are...  0.250000      0.500000\n",
       "9   RT @RepMarkMeadows: Reminder that while House ...  0.050000      0.352778\n",
       "10  ....If there is a Runoff in Louisiana, you wil...  0.468182      0.602273\n",
       "11  Big Rally in Louisiana on Friday night. Must f...  0.000000      0.100000\n",
       "12  This is just the beginning, thank you to @Byro...  0.000000      0.000000\n",
       "13  The U.S. Border is SECURE! https://t.co/h9EPUP...  0.400000      0.600000\n",
       "14  ....In fact, the “Cops For Trump” T-shirt Web ...  0.450000      0.450000\n",
       "15  Radical Left Dem Mayor of Minneapolis, Jacob F...  0.133333      0.600000\n",
       "16  Friday night in Louisiana will be Great. Big c...  0.233333      0.416667\n",
       "17  RT @bennyjohnson: Mahalet was born in Ethiopia...  0.000000      0.000000\n",
       "18  Hasn’t Adam Schiff been fully discredited by n...  0.000000      0.000000\n",
       "19                            https://t.co/bh1FyxfUiA  0.000000      0.000000"
      ]
     },
     "execution_count": 63,
     "metadata": {},
     "output_type": "execute_result"
    }
   ],
   "source": [
    "df[['text','polarity', 'subjectivity']]"
   ]
  },
  {
   "cell_type": "code",
   "execution_count": 43,
   "metadata": {},
   "outputs": [
    {
     "data": {
      "text/plain": [
       "'RT @bennyjohnson: Mahalet was born in Ethiopia.\\nAbandoned by her parents, she lived as an impoverished orphan.\\n\\nMahalet was adopted by a lo…'"
      ]
     },
     "execution_count": 43,
     "metadata": {},
     "output_type": "execute_result"
    }
   ],
   "source": [
    "df['text'][17]"
   ]
  },
  {
   "cell_type": "code",
   "execution_count": 67,
   "metadata": {},
   "outputs": [
    {
     "name": "stdout",
     "output_type": "stream",
     "text": [
      "amazing\n",
      "Sentiment(classification='pos', p_pos=0.6267123287671232, p_neg=0.37328767123287654)\n",
      "\n",
      "Sentiment(classification='pos', p_pos=0.5, p_neg=0.5)\n",
      "\n",
      "Sentiment(classification='pos', p_pos=0.5, p_neg=0.5)\n",
      "wow breaking big deal whistleblower professional tie democratic candidate washingto\n",
      "Sentiment(classification='pos', p_pos=0.7980211228008178, p_neg=0.2019788771991826)\n",
      "bob mueller pursuing fbi director job met president trump administration official\n",
      "Sentiment(classification='neg', p_pos=0.20242059381864655, p_neg=0.797579406181352)\n",
      "time excuse usmca need move fall worker small business kentucky across\n",
      "Sentiment(classification='pos', p_pos=0.8498337501886764, p_neg=0.15016624981132234)\n",
      "greatest witch hunt history usa\n",
      "Sentiment(classification='pos', p_pos=0.6326878511976994, p_neg=0.36731214880230006)\n",
      "usmca would create job american worker generate billion wealth america house democrat\n",
      "Sentiment(classification='pos', p_pos=0.9639578957227901, p_neg=0.03604210427721138)\n",
      "gasoline price state california much higher anywhere else nation v gu\n",
      "Sentiment(classification='neg', p_pos=0.2503614424485137, p_neg=0.7496385575514877)\n",
      "reminder house democrat spent basically entire first year majority congress throwing\n",
      "Sentiment(classification='pos', p_pos=0.980634773976343, p_neg=0.01936522602365516)\n",
      "runoff louisiana great new republican governor cut tax ca\n",
      "Sentiment(classification='neg', p_pos=0.41881663363013444, p_neg=0.5811833663698651)\n",
      "big rally louisiana friday night must force runoff liberal democrat governor john bel edward\n",
      "Sentiment(classification='pos', p_pos=0.9806735249565189, p_neg=0.019326475043482953)\n",
      "beginning thank\n",
      "Sentiment(classification='pos', p_pos=0.5441176470588235, p_neg=0.455882352941177)\n",
      "u border secure\n",
      "Sentiment(classification='pos', p_pos=0.5078125, p_neg=0.4921875000000004)\n",
      "fact cop trump shirt web site crashed incredible volume back run\n",
      "Sentiment(classification='neg', p_pos=0.25515714417991725, p_neg=0.7448428558200846)\n",
      "radical left dem mayor minneapolis jacob frey everything possible stifle free speech despite rec\n",
      "Sentiment(classification='pos', p_pos=0.6891692322139531, p_neg=0.3108307677860421)\n",
      "friday night louisiana great big crowd expected republican must get vote either tw\n",
      "Sentiment(classification='neg', p_pos=0.14886835766331674, p_neg=0.8511316423366817)\n",
      "mahalet born ethiopia abandoned parent lived impoverished orphan mahalet adopted lo\n",
      "Sentiment(classification='pos', p_pos=0.9902099434092012, p_neg=0.009790056590800103)\n",
      "adam schiff fully discredited continue listening lie\n",
      "Sentiment(classification='pos', p_pos=0.9891390062293918, p_neg=0.010860993770609418)\n",
      "\n",
      "Sentiment(classification='pos', p_pos=0.5, p_neg=0.5)\n"
     ]
    }
   ],
   "source": [
    "from textblob.sentiments import NaiveBayesAnalyzer\n",
    "for tweet in df['tidy_tweet']:\n",
    "    print(tweet)\n",
    "    analysis = TextBlob(tweet,analyzer=NaiveBayesAnalyzer())\n",
    "    print(analysis.sentiment)  "
   ]
  },
  {
   "cell_type": "code",
   "execution_count": null,
   "metadata": {},
   "outputs": [],
   "source": []
  }
 ],
 "metadata": {
  "kernelspec": {
   "display_name": "Python 3",
   "language": "python",
   "name": "python3"
  },
  "language_info": {
   "codemirror_mode": {
    "name": "ipython",
    "version": 3
   },
   "file_extension": ".py",
   "mimetype": "text/x-python",
   "name": "python",
   "nbconvert_exporter": "python",
   "pygments_lexer": "ipython3",
   "version": "3.7.3"
  }
 },
 "nbformat": 4,
 "nbformat_minor": 2
}
